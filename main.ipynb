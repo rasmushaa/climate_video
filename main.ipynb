{
 "cells": [
  {
   "cell_type": "code",
   "execution_count": 1,
   "metadata": {},
   "outputs": [],
   "source": [
    "%load_ext autoreload\n",
    "%autoreload 2"
   ]
  },
  {
   "cell_type": "code",
   "execution_count": 1,
   "metadata": {},
   "outputs": [
    {
     "name": "stdout",
     "output_type": "stream",
     "text": [
      "Moviepy - Building video generated_video_sound.mp4.\n",
      "MoviePy - Writing audio in generated_video_soundTEMP_MPY_wvf_snd.mp3\n"
     ]
    },
    {
     "name": "stderr",
     "output_type": "stream",
     "text": [
      "                                                                      \r"
     ]
    },
    {
     "name": "stdout",
     "output_type": "stream",
     "text": [
      "MoviePy - Done.\n",
      "Moviepy - Writing video generated_video_sound.mp4\n",
      "\n"
     ]
    },
    {
     "name": "stderr",
     "output_type": "stream",
     "text": [
      "                                                                  "
     ]
    },
    {
     "name": "stdout",
     "output_type": "stream",
     "text": [
      "Moviepy - Done !\n",
      "Moviepy - video ready generated_video_sound.mp4\n"
     ]
    },
    {
     "name": "stderr",
     "output_type": "stream",
     "text": [
      "\r"
     ]
    }
   ],
   "source": [
    "from yoy import Plotter\n",
    "import pandas as pd\n",
    "\n",
    "df_excel = pd.read_excel('kaisaniemi.xlsx', sheet_name='Havainnot')\n",
    "df_excel = df_excel.loc[df_excel['Ilman lämpötila (degC)'] != '-'].copy()\n",
    "df = pd.DataFrame()\n",
    "df['date'] = pd.to_datetime(df_excel['Vuosi'].astype(str) + '-' + df_excel['Kk'].astype(str) + '-' + df_excel['Pv'].astype(str))\n",
    "df['temp'] = df_excel['Ilman lämpötila (degC)'].rolling(5).mean().astype(float)\n",
    "\n",
    "FPS = 30.0\n",
    "plotter = Plotter(data=df, fps=FPS, dpi=50)\n",
    "\n",
    "plotter.add_line(n=1, seconds=9.0)\n",
    "plotter.add_line(n=1, seconds=9.0)\n",
    "plotter.add_line(n=1, seconds=9.0)\n",
    "plotter.add_line(n=1, seconds=9.0)\n",
    "plotter.add_line(n=1, seconds=9.0)\n",
    "plotter.add_line(n=1, seconds=9.0)\n",
    "plotter.add_line(n=1, seconds=8.0)\n",
    "plotter.add_line(n=1, seconds=8.0)\n",
    "plotter.add_line(n=1, seconds=8.0)\n",
    "plotter.add_line(n=1, seconds=7.0)\n",
    "plotter.add_line(n=1, seconds=7.0)\n",
    "plotter.add_line(n=1, seconds=6.0)\n",
    "plotter.add_line(n=10, seconds=0.6)\n",
    "plotter.add_line(n=15, seconds=0.5)\n",
    "plotter.add_line(n=48, seconds=0.4)\n",
    "plotter.add_line(n=2, seconds=0.8)\n",
    "plotter.add_line(n=3, seconds=0.4)\n",
    "plotter.add_line(n=2, seconds=0.8)\n",
    "plotter.add_line(n=3, seconds=0.4)\n",
    "plotter.add_line(n=2, seconds=0.8)\n",
    "plotter.add_line(n=3, seconds=0.4)\n",
    "\n",
    "\n",
    "plotter.generate_new_frames()\n"
   ]
  }
 ],
 "metadata": {
  "kernelspec": {
   "display_name": "general_3.8_x86",
   "language": "python",
   "name": "python3"
  },
  "language_info": {
   "codemirror_mode": {
    "name": "ipython",
    "version": 3
   },
   "file_extension": ".py",
   "mimetype": "text/x-python",
   "name": "python",
   "nbconvert_exporter": "python",
   "pygments_lexer": "ipython3",
   "version": "3.8.15"
  },
  "orig_nbformat": 4
 },
 "nbformat": 4,
 "nbformat_minor": 2
}
